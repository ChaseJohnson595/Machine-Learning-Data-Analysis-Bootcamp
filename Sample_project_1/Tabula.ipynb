{
 "cells": [
  {
   "cell_type": "code",
   "execution_count": 6,
   "id": "cb965391-ac6e-4276-8605-e36a00963b89",
   "metadata": {},
   "outputs": [
    {
     "ename": "ModuleNotFoundError",
     "evalue": "No module named 'camelot'",
     "output_type": "error",
     "traceback": [
      "\u001b[1;31m---------------------------------------------------------------------------\u001b[0m",
      "\u001b[1;31mModuleNotFoundError\u001b[0m                       Traceback (most recent call last)",
      "Cell \u001b[1;32mIn[6], line 1\u001b[0m\n\u001b[1;32m----> 1\u001b[0m \u001b[38;5;28;01mimport\u001b[39;00m \u001b[38;5;21;01mcamelot\u001b[39;00m\n",
      "\u001b[1;31mModuleNotFoundError\u001b[0m: No module named 'camelot'"
     ]
    }
   ],
   "source": [
    "import camelot"
   ]
  },
  {
   "cell_type": "code",
   "execution_count": 3,
   "id": "5b394641-326d-4c08-9c62-361963156e97",
   "metadata": {},
   "outputs": [],
   "source": [
    "pdf_file = \"Apr-2025.pdf\""
   ]
  },
  {
   "cell_type": "code",
   "execution_count": 5,
   "id": "b0e39e22-cafd-4e11-939d-5023db8d2d1e",
   "metadata": {},
   "outputs": [
    {
     "ename": "NameError",
     "evalue": "name 'camelot' is not defined",
     "output_type": "error",
     "traceback": [
      "\u001b[1;31m---------------------------------------------------------------------------\u001b[0m",
      "\u001b[1;31mNameError\u001b[0m                                 Traceback (most recent call last)",
      "Cell \u001b[1;32mIn[5], line 1\u001b[0m\n\u001b[1;32m----> 1\u001b[0m dfs \u001b[38;5;241m=\u001b[39m camelot\u001b[38;5;241m.\u001b[39mread_pdf(pdf_file, pages \u001b[38;5;241m=\u001b[39m \u001b[38;5;124m'\u001b[39m\u001b[38;5;124m1\u001b[39m\u001b[38;5;124m'\u001b[39m)\n\u001b[0;32m      2\u001b[0m \u001b[38;5;28;01mfor\u001b[39;00m table \u001b[38;5;129;01min\u001b[39;00m dfs:\n\u001b[0;32m      3\u001b[0m     \u001b[38;5;28mprint\u001b[39m(table\u001b[38;5;241m.\u001b[39mdf)\n",
      "\u001b[1;31mNameError\u001b[0m: name 'camelot' is not defined"
     ]
    }
   ],
   "source": [
    "dfs = camelot.read_pdf(pdf_file, pages = '1')\n",
    "for table in dfs:\n",
    "    print(table.df)"
   ]
  },
  {
   "cell_type": "code",
   "execution_count": null,
   "id": "897c6b4c-abab-4bc7-b031-e6983835fd23",
   "metadata": {},
   "outputs": [],
   "source": []
  }
 ],
 "metadata": {
  "kernelspec": {
   "display_name": "Python 3 (ipykernel)",
   "language": "python",
   "name": "python3"
  },
  "language_info": {
   "codemirror_mode": {
    "name": "ipython",
    "version": 3
   },
   "file_extension": ".py",
   "mimetype": "text/x-python",
   "name": "python",
   "nbconvert_exporter": "python",
   "pygments_lexer": "ipython3",
   "version": "3.12.9"
  }
 },
 "nbformat": 4,
 "nbformat_minor": 5
}
